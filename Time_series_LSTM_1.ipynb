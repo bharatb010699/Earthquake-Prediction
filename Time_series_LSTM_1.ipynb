{
  "nbformat": 4,
  "nbformat_minor": 0,
  "metadata": {
    "colab": {
      "name": "Time_series_LSTM_1.ipynb",
      "provenance": [],
      "authorship_tag": "ABX9TyNiTDRIMEy4bjidBSSgly45"
    },
    "kernelspec": {
      "name": "python3",
      "display_name": "Python 3"
    },
    "accelerator": "GPU"
  },
  "cells": [
    {
      "cell_type": "code",
      "metadata": {
        "id": "FaYjS6n7MRNv",
        "colab_type": "code",
        "colab": {
          "base_uri": "https://localhost:8080/",
          "height": 34
        },
        "outputId": "94ba5c2d-46fa-4f62-9bb7-79777085a24a"
      },
      "source": [
        "# Importing the libraries\n",
        "import numpy as np\n",
        "import matplotlib.pyplot as plt\n",
        "plt.style.use('fivethirtyeight')\n",
        "import pandas as pd\n",
        "from sklearn.preprocessing import MinMaxScaler\n",
        "from keras.models import Sequential\n",
        "from keras.layers import Dense, LSTM, Dropout, GRU, Bidirectional\n",
        "from keras.optimizers import SGD\n",
        "import math\n",
        "from sklearn.metrics import mean_squared_error"
      ],
      "execution_count": 1,
      "outputs": [
        {
          "output_type": "stream",
          "text": [
            "Using TensorFlow backend.\n"
          ],
          "name": "stderr"
        }
      ]
    },
    {
      "cell_type": "code",
      "metadata": {
        "id": "VOAEbtHBUpBa",
        "colab_type": "code",
        "colab": {}
      },
      "source": [
        "# Some functions to help out with\n",
        "def plot_predictions(test,predicted):\n",
        "    plt.plot(test, color='red',label='Real Magnitude')\n",
        "    plt.plot(predicted, color='blue',label='Predicted Magnitude')\n",
        "    plt.title('Earthquake Magnitude Prediction')\n",
        "    plt.xlabel('Time')\n",
        "    plt.ylabel('Magnitude')\n",
        "    plt.legend()\n",
        "    plt.show()\n",
        "\n",
        "def return_rmse(test,predicted):\n",
        "    rmse = math.sqrt(mean_squared_error(test, predicted))\n",
        "    print(\"The root mean squared error is {}.\".format(rmse))"
      ],
      "execution_count": 3,
      "outputs": []
    },
    {
      "cell_type": "code",
      "metadata": {
        "id": "Y0ouxY8nXHv5",
        "colab_type": "code",
        "colab": {
          "base_uri": "https://localhost:8080/",
          "height": 118
        },
        "outputId": "8ce853b5-7434-49c1-e8d2-1821dff20945"
      },
      "source": [
        "!git clone \"https://github.com/bharatb010699/Earthquake-Forecasting.git\""
      ],
      "execution_count": 4,
      "outputs": [
        {
          "output_type": "stream",
          "text": [
            "Cloning into 'Earthquake-Forecasting'...\n",
            "remote: Enumerating objects: 36, done.\u001b[K\n",
            "remote: Counting objects:   2% (1/36)\u001b[K\rremote: Counting objects:   5% (2/36)\u001b[K\rremote: Counting objects:   8% (3/36)\u001b[K\rremote: Counting objects:  11% (4/36)\u001b[K\rremote: Counting objects:  13% (5/36)\u001b[K\rremote: Counting objects:  16% (6/36)\u001b[K\rremote: Counting objects:  19% (7/36)\u001b[K\rremote: Counting objects:  22% (8/36)\u001b[K\rremote: Counting objects:  25% (9/36)\u001b[K\rremote: Counting objects:  27% (10/36)\u001b[K\rremote: Counting objects:  30% (11/36)\u001b[K\rremote: Counting objects:  33% (12/36)\u001b[K\rremote: Counting objects:  36% (13/36)\u001b[K\rremote: Counting objects:  38% (14/36)\u001b[K\rremote: Counting objects:  41% (15/36)\u001b[K\rremote: Counting objects:  44% (16/36)\u001b[K\rremote: Counting objects:  47% (17/36)\u001b[K\rremote: Counting objects:  50% (18/36)\u001b[K\rremote: Counting objects:  52% (19/36)\u001b[K\rremote: Counting objects:  55% (20/36)\u001b[K\rremote: Counting objects:  58% (21/36)\u001b[K\rremote: Counting objects:  61% (22/36)\u001b[K\rremote: Counting objects:  63% (23/36)\u001b[K\rremote: Counting objects:  66% (24/36)\u001b[K\rremote: Counting objects:  69% (25/36)\u001b[K\rremote: Counting objects:  72% (26/36)\u001b[K\rremote: Counting objects:  75% (27/36)\u001b[K\rremote: Counting objects:  77% (28/36)\u001b[K\rremote: Counting objects:  80% (29/36)\u001b[K\rremote: Counting objects:  83% (30/36)\u001b[K\rremote: Counting objects:  86% (31/36)\u001b[K\rremote: Counting objects:  88% (32/36)\u001b[K\rremote: Counting objects:  91% (33/36)\u001b[K\rremote: Counting objects:  94% (34/36)\u001b[K\rremote: Counting objects:  97% (35/36)\u001b[K\rremote: Counting objects: 100% (36/36)\u001b[K\rremote: Counting objects: 100% (36/36), done.\u001b[K\n",
            "remote: Compressing objects: 100% (30/30), done.\u001b[K\n",
            "remote: Total 36 (delta 13), reused 18 (delta 6), pack-reused 0\u001b[K\n",
            "Unpacking objects: 100% (36/36), done.\n"
          ],
          "name": "stdout"
        }
      ]
    },
    {
      "cell_type": "code",
      "metadata": {
        "id": "36gZMsgxVBLC",
        "colab_type": "code",
        "colab": {
          "base_uri": "https://localhost:8080/",
          "height": 225
        },
        "outputId": "0640e5d2-a34d-444a-fe0c-34ee2fd9dd56"
      },
      "source": [
        "# First, we get the data\n",
        "dataset = pd.read_csv('/content/Earthquake-Forecasting/query.csv', index_col='time', parse_dates=['time'])\n",
        "dataset = dataset[['latitude', 'longitude', 'depth', 'mag']]\n",
        "dataset = dataset.iloc[::-1]\n",
        "dataset.head()"
      ],
      "execution_count": 6,
      "outputs": [
        {
          "output_type": "execute_result",
          "data": {
            "text/html": [
              "<div>\n",
              "<style scoped>\n",
              "    .dataframe tbody tr th:only-of-type {\n",
              "        vertical-align: middle;\n",
              "    }\n",
              "\n",
              "    .dataframe tbody tr th {\n",
              "        vertical-align: top;\n",
              "    }\n",
              "\n",
              "    .dataframe thead th {\n",
              "        text-align: right;\n",
              "    }\n",
              "</style>\n",
              "<table border=\"1\" class=\"dataframe\">\n",
              "  <thead>\n",
              "    <tr style=\"text-align: right;\">\n",
              "      <th></th>\n",
              "      <th>latitude</th>\n",
              "      <th>longitude</th>\n",
              "      <th>depth</th>\n",
              "      <th>mag</th>\n",
              "    </tr>\n",
              "    <tr>\n",
              "      <th>time</th>\n",
              "      <th></th>\n",
              "      <th></th>\n",
              "      <th></th>\n",
              "      <th></th>\n",
              "    </tr>\n",
              "  </thead>\n",
              "  <tbody>\n",
              "    <tr>\n",
              "      <th>1920-10-12 06:54:51+00:00</th>\n",
              "      <td>35.426</td>\n",
              "      <td>80.532</td>\n",
              "      <td>20.0</td>\n",
              "      <td>6.7</td>\n",
              "    </tr>\n",
              "    <tr>\n",
              "      <th>1921-11-15 20:36:43+00:00</th>\n",
              "      <td>36.202</td>\n",
              "      <td>70.711</td>\n",
              "      <td>240.0</td>\n",
              "      <td>7.8</td>\n",
              "    </tr>\n",
              "    <tr>\n",
              "      <th>1922-10-16 16:01:37+00:00</th>\n",
              "      <td>39.136</td>\n",
              "      <td>89.751</td>\n",
              "      <td>10.0</td>\n",
              "      <td>6.3</td>\n",
              "    </tr>\n",
              "    <tr>\n",
              "      <th>1923-10-01 08:16:28+00:00</th>\n",
              "      <td>29.012</td>\n",
              "      <td>70.033</td>\n",
              "      <td>15.0</td>\n",
              "      <td>6.3</td>\n",
              "    </tr>\n",
              "    <tr>\n",
              "      <th>1924-07-03 04:40:12+00:00</th>\n",
              "      <td>36.983</td>\n",
              "      <td>84.164</td>\n",
              "      <td>10.0</td>\n",
              "      <td>7.0</td>\n",
              "    </tr>\n",
              "  </tbody>\n",
              "</table>\n",
              "</div>"
            ],
            "text/plain": [
              "                           latitude  longitude  depth  mag\n",
              "time                                                      \n",
              "1920-10-12 06:54:51+00:00    35.426     80.532   20.0  6.7\n",
              "1921-11-15 20:36:43+00:00    36.202     70.711  240.0  7.8\n",
              "1922-10-16 16:01:37+00:00    39.136     89.751   10.0  6.3\n",
              "1923-10-01 08:16:28+00:00    29.012     70.033   15.0  6.3\n",
              "1924-07-03 04:40:12+00:00    36.983     84.164   10.0  7.0"
            ]
          },
          "metadata": {
            "tags": []
          },
          "execution_count": 6
        }
      ]
    },
    {
      "cell_type": "code",
      "metadata": {
        "id": "ge46W5cQYOve",
        "colab_type": "code",
        "colab": {}
      },
      "source": [
        "# Checking for missing values\n",
        "training_set = dataset['2012':'2018'].iloc[:,1:2].values\n",
        "test_set = dataset['2019':].iloc[:,1:2].values"
      ],
      "execution_count": 11,
      "outputs": []
    },
    {
      "cell_type": "code",
      "metadata": {
        "id": "Q45KOwOCZRlj",
        "colab_type": "code",
        "colab": {
          "base_uri": "https://localhost:8080/",
          "height": 286
        },
        "outputId": "994653f7-89f3-4dfb-8812-16b7e0110cc8"
      },
      "source": [
        "# We have chosen 'mag' attribute. Let's see what it looks like\n",
        "dataset[\"mag\"]['2012':'2018'].plot(figsize=(16,4),legend=True)\n",
        "dataset[\"mag\"]['2019':].plot(figsize=(16,4),legend=True)\n",
        "plt.legend(['Training set (Before 2019)','Test set (2019 and beyond)'])\n",
        "plt.title('Earthquake magnitude')\n",
        "plt.show()"
      ],
      "execution_count": 13,
      "outputs": [
        {
          "output_type": "display_data",
          "data": {
            "image/png": "[encoded data removed]",
            "text/plain": [
              "<Figure size 1152x288 with 1 Axes>"
            ]
          },
          "metadata": {
            "tags": [],
            "needs_background": "light"
          }
        }
      ]
    },
    {
      "cell_type": "code",
      "metadata": {
        "id": "WYSaSPgeZp6R",
        "colab_type": "code",
        "colab": {}
      },
      "source": [
        "# Scaling the training set\n",
        "sc = MinMaxScaler(feature_range=(0,1))\n",
        "training_set_scaled = sc.fit_transform(training_set)"
      ],
      "execution_count": 14,
      "outputs": []
    },
    {
      "cell_type": "code",
      "metadata": {
        "id": "0eudnZW4ah6E",
        "colab_type": "code",
        "colab": {
          "base_uri": "https://localhost:8080/",
          "height": 50
        },
        "outputId": "c088c7d5-87e5-4812-f3d1-ce7ef8661969"
      },
      "source": [
        "print(len(training_set))\n",
        "print(len(test_set))"
      ],
      "execution_count": 17,
      "outputs": [
        {
          "output_type": "stream",
          "text": [
            "3268\n",
            "477\n"
          ],
          "name": "stdout"
        }
      ]
    },
    {
      "cell_type": "code",
      "metadata": {
        "id": "8-w_Wt2aas_F",
        "colab_type": "code",
        "colab": {}
      },
      "source": [
        "# Since LSTMs store long term memory state, we create a data structure with 60 timesteps and 1 output\n",
        "# So for each element of training set, we have 60 previous training set elements \n",
        "X_train = []\n",
        "y_train = []\n",
        "for i in range(60,len(training_set)):\n",
        "    X_train.append(training_set_scaled[i-60:i,0])\n",
        "    y_train.append(training_set_scaled[i,0])\n",
        "X_train, y_train = np.array(X_train), np.array(y_train)"
      ],
      "execution_count": 20,
      "outputs": []
    },
    {
      "cell_type": "code",
      "metadata": {
        "id": "YpBlk9kAbFST",
        "colab_type": "code",
        "colab": {}
      },
      "source": [
        "# Reshaping X_train for efficient modelling\n",
        "X_train = np.reshape(X_train, (X_train.shape[0],X_train.shape[1],1))"
      ],
      "execution_count": 21,
      "outputs": []
    },
    {
      "cell_type": "code",
      "metadata": {
        "id": "j1HGmQQIbz87",
        "colab_type": "code",
        "colab": {}
      },
      "source": [
        "# The LSTM architecture\n",
        "regressor = Sequential()\n",
        "# First LSTM layer with Dropout regularisation\n",
        "regressor.add(LSTM(units=50, return_sequences=True, input_shape=(X_train.shape[1],1)))\n",
        "regressor.add(Dropout(0.2))\n",
        "# Second LSTM layer\n",
        "regressor.add(LSTM(units=50, return_sequences=True))\n",
        "regressor.add(Dropout(0.2))\n",
        "# Third LSTM layer\n",
        "regressor.add(LSTM(units=50, return_sequences=True))\n",
        "regressor.add(Dropout(0.2))\n",
        "# Fourth LSTM layer\n",
        "regressor.add(LSTM(units=50))\n",
        "regressor.add(Dropout(0.2))\n",
        "# The output layer\n",
        "regressor.add(Dense(units=1))"
      ],
      "execution_count": 24,
      "outputs": []
    },
    {
      "cell_type": "code",
      "metadata": {
        "id": "sW40BYNrb__F",
        "colab_type": "code",
        "colab": {
          "base_uri": "https://localhost:8080/",
          "height": 1000
        },
        "outputId": "1f8b6de3-9a4d-4b91-b1d5-b74247354907"
      },
      "source": [
        "# Compiling the RNN\n",
        "regressor.compile(optimizer='rmsprop',loss='mean_squared_error')\n",
        "# Fitting to the training set\n",
        "regressor.fit(X_train,y_train,epochs=50,batch_size=16)"
      ],
      "execution_count": 26,
      "outputs": [
        {
          "output_type": "stream",
          "text": [
            "Epoch 1/50\n",
            "3208/3208 [==============================] - 116s 36ms/step - loss: 0.0873\n",
            "Epoch 2/50\n",
            "3208/3208 [==============================] - 115s 36ms/step - loss: 0.0864\n",
            "Epoch 3/50\n",
            "3208/3208 [==============================] - 115s 36ms/step - loss: 0.0861\n",
            "Epoch 4/50\n",
            "3208/3208 [==============================] - 114s 35ms/step - loss: 0.0858\n",
            "Epoch 5/50\n",
            "3208/3208 [==============================] - 113s 35ms/step - loss: 0.0856\n",
            "Epoch 6/50\n",
            "3208/3208 [==============================] - 114s 35ms/step - loss: 0.0851\n",
            "Epoch 7/50\n",
            "3208/3208 [==============================] - 114s 35ms/step - loss: 0.0843\n",
            "Epoch 8/50\n",
            "3208/3208 [==============================] - 113s 35ms/step - loss: 0.0838\n",
            "Epoch 9/50\n",
            "3208/3208 [==============================] - 113s 35ms/step - loss: 0.0840\n",
            "Epoch 10/50\n",
            "3208/3208 [==============================] - 113s 35ms/step - loss: 0.0836\n",
            "Epoch 11/50\n",
            "3208/3208 [==============================] - 113s 35ms/step - loss: 0.0829\n",
            "Epoch 12/50\n",
            "3208/3208 [==============================] - 113s 35ms/step - loss: 0.0835\n",
            "Epoch 13/50\n",
            "3208/3208 [==============================] - 113s 35ms/step - loss: 0.0833\n",
            "Epoch 14/50\n",
            "3208/3208 [==============================] - 113s 35ms/step - loss: 0.0826\n",
            "Epoch 15/50\n",
            "3208/3208 [==============================] - 113s 35ms/step - loss: 0.0831\n",
            "Epoch 16/50\n",
            "3208/3208 [==============================] - 114s 35ms/step - loss: 0.0830\n",
            "Epoch 17/50\n",
            "3208/3208 [==============================] - 114s 35ms/step - loss: 0.0830\n",
            "Epoch 18/50\n",
            "3208/3208 [==============================] - 114s 36ms/step - loss: 0.0829\n",
            "Epoch 19/50\n",
            "3208/3208 [==============================] - 114s 36ms/step - loss: 0.0824\n",
            "Epoch 20/50\n",
            "3208/3208 [==============================] - 113s 35ms/step - loss: 0.0827\n",
            "Epoch 21/50\n",
            "3208/3208 [==============================] - 113s 35ms/step - loss: 0.0825\n",
            "Epoch 22/50\n",
            "3208/3208 [==============================] - 113s 35ms/step - loss: 0.0826\n",
            "Epoch 23/50\n",
            "3208/3208 [==============================] - 113s 35ms/step - loss: 0.0826\n",
            "Epoch 24/50\n",
            "3208/3208 [==============================] - 113s 35ms/step - loss: 0.0822\n",
            "Epoch 25/50\n",
            "3208/3208 [==============================] - 114s 35ms/step - loss: 0.0820\n",
            "Epoch 26/50\n",
            "3208/3208 [==============================] - 114s 36ms/step - loss: 0.0819\n",
            "Epoch 27/50\n",
            "3208/3208 [==============================] - 113s 35ms/step - loss: 0.0820\n",
            "Epoch 28/50\n",
            "3208/3208 [==============================] - 112s 35ms/step - loss: 0.0821\n",
            "Epoch 29/50\n",
            "3208/3208 [==============================] - 114s 35ms/step - loss: 0.0821\n",
            "Epoch 30/50\n",
            "3208/3208 [==============================] - 113s 35ms/step - loss: 0.0817\n",
            "Epoch 31/50\n",
            "3208/3208 [==============================] - 114s 35ms/step - loss: 0.0818\n",
            "Epoch 32/50\n",
            "3208/3208 [==============================] - 113s 35ms/step - loss: 0.0819\n",
            "Epoch 33/50\n",
            "3208/3208 [==============================] - 114s 36ms/step - loss: 0.0813\n",
            "Epoch 34/50\n",
            "3208/3208 [==============================] - 116s 36ms/step - loss: 0.0818\n",
            "Epoch 35/50\n",
            "3208/3208 [==============================] - 114s 36ms/step - loss: 0.0817\n",
            "Epoch 36/50\n",
            "3208/3208 [==============================] - 113s 35ms/step - loss: 0.0815\n",
            "Epoch 37/50\n",
            "3208/3208 [==============================] - 114s 36ms/step - loss: 0.0811\n",
            "Epoch 38/50\n",
            "3208/3208 [==============================] - 114s 35ms/step - loss: 0.0813\n",
            "Epoch 39/50\n",
            "3208/3208 [==============================] - 113s 35ms/step - loss: 0.0813\n",
            "Epoch 40/50\n",
            "3208/3208 [==============================] - 112s 35ms/step - loss: 0.0808\n",
            "Epoch 41/50\n",
            "3208/3208 [==============================] - 113s 35ms/step - loss: 0.0809\n",
            "Epoch 42/50\n",
            "3208/3208 [==============================] - 113s 35ms/step - loss: 0.0808\n",
            "Epoch 43/50\n",
            "3208/3208 [==============================] - 114s 35ms/step - loss: 0.0806\n",
            "Epoch 44/50\n",
            "3208/3208 [==============================] - 116s 36ms/step - loss: 0.0809\n",
            "Epoch 45/50\n",
            "3208/3208 [==============================] - 117s 37ms/step - loss: 0.0807\n",
            "Epoch 46/50\n",
            "3208/3208 [==============================] - 117s 37ms/step - loss: 0.0806\n",
            "Epoch 47/50\n",
            "3208/3208 [==============================] - 117s 36ms/step - loss: 0.0802\n",
            "Epoch 48/50\n",
            "3208/3208 [==============================] - 116s 36ms/step - loss: 0.0803\n",
            "Epoch 49/50\n",
            "3208/3208 [==============================] - 114s 35ms/step - loss: 0.0804\n",
            "Epoch 50/50\n",
            "3208/3208 [==============================] - 113s 35ms/step - loss: 0.0802\n"
          ],
          "name": "stdout"
        },
        {
          "output_type": "execute_result",
          "data": {
            "text/plain": [
              "<keras.callbacks.callbacks.History at 0x7f5b44063ac8>"
            ]
          },
          "metadata": {
            "tags": []
          },
          "execution_count": 26
        }
      ]
    },
    {
      "cell_type": "code",
      "metadata": {
        "id": "6KOrhw-2cLXQ",
        "colab_type": "code",
        "colab": {}
      },
      "source": [
        "regressor.save('/content/Earthquake-Forecasting/lstm_model.h5')"
      ],
      "execution_count": 28,
      "outputs": []
    },
    {
      "cell_type": "code",
      "metadata": {
        "id": "wfTQ_KoLzN-y",
        "colab_type": "code",
        "colab": {
          "base_uri": "https://localhost:8080/",
          "height": 454
        },
        "outputId": "5d7e499c-6712-49a8-80fa-c336698c392e"
      },
      "source": [
        "regressor.summary()"
      ],
      "execution_count": 29,
      "outputs": [
        {
          "output_type": "stream",
          "text": [
            "Model: \"sequential_2\"\n",
            "_________________________________________________________________\n",
            "Layer (type)                 Output Shape              Param #   \n",
            "=================================================================\n",
            "lstm_4 (LSTM)                (None, 60, 50)            10400     \n",
            "_________________________________________________________________\n",
            "dropout_4 (Dropout)          (None, 60, 50)            0         \n",
            "_________________________________________________________________\n",
            "lstm_5 (LSTM)                (None, 60, 50)            20200     \n",
            "_________________________________________________________________\n",
            "dropout_5 (Dropout)          (None, 60, 50)            0         \n",
            "_________________________________________________________________\n",
            "lstm_6 (LSTM)                (None, 60, 50)            20200     \n",
            "_________________________________________________________________\n",
            "dropout_6 (Dropout)          (None, 60, 50)            0         \n",
            "_________________________________________________________________\n",
            "lstm_7 (LSTM)                (None, 50)                20200     \n",
            "_________________________________________________________________\n",
            "dropout_7 (Dropout)          (None, 50)                0         \n",
            "_________________________________________________________________\n",
            "dense_2 (Dense)              (None, 1)                 51        \n",
            "=================================================================\n",
            "Total params: 71,051\n",
            "Trainable params: 71,051\n",
            "Non-trainable params: 0\n",
            "_________________________________________________________________\n"
          ],
          "name": "stdout"
        }
      ]
    },
    {
      "cell_type": "code",
      "metadata": {
        "id": "fX8euY2szW2j",
        "colab_type": "code",
        "colab": {}
      },
      "source": [
        "# Now to get the test set ready in a similar way as the training set.\n",
        "# The following has been done so first 60 entires of test set have 60 previous values which is impossible to get unless we take the whole \n",
        "# 'mag' attribute data for processing\n",
        "dataset_total = pd.concat((dataset[\"mag\"]['2012':'2018'],dataset[\"mag\"]['2019':]),axis=0)\n",
        "inputs = dataset_total[len(dataset_total)-len(test_set) - 60:].values\n",
        "inputs = inputs.reshape(-1,1)\n",
        "inputs  = sc.transform(inputs)"
      ],
      "execution_count": 30,
      "outputs": []
    },
    {
      "cell_type": "code",
      "metadata": {
        "id": "xOxwqq0rzqXJ",
        "colab_type": "code",
        "colab": {}
      },
      "source": [
        "X_test = []\n",
        "for i in range(60,len(test_set)):\n",
        "    X_test.append(inputs[i-60:i,0])\n",
        "X_test = np.array(X_test)\n",
        "X_test = np.reshape(X_test, (X_test.shape[0],X_test.shape[1],1))\n",
        "predicted_mag = regressor.predict(X_test)\n",
        "predicted_mag = sc.inverse_transform(predicted_mag)"
      ],
      "execution_count": 31,
      "outputs": []
    },
    {
      "cell_type": "code",
      "metadata": {
        "id": "dr4d-Xcs0DW5",
        "colab_type": "code",
        "colab": {
          "base_uri": "https://localhost:8080/",
          "height": 296
        },
        "outputId": "e31700fb-a980-4c9f-a439-d0d927758e84"
      },
      "source": [
        "# Visualizing the results for LSTM\n",
        "plot_predictions(test_set[:len(test_set)-60], predicted_mag)"
      ],
      "execution_count": 37,
      "outputs": [
        {
          "output_type": "display_data",
          "data": {
            "image/png": "[encoded data removed]",
            "text/plain": [
              "<Figure size 432x288 with 1 Axes>"
            ]
          },
          "metadata": {
            "tags": [],
            "needs_background": "light"
          }
        }
      ]
    },
    {
      "cell_type": "code",
      "metadata": {
        "id": "nbf_2tIv0QPz",
        "colab_type": "code",
        "colab": {
          "base_uri": "https://localhost:8080/",
          "height": 34
        },
        "outputId": "be09fa06-6b65-4866-e06b-7033e27c1c78"
      },
      "source": [
        "# Evaluating our model\n",
        "return_rmse(test_set[:len(test_set)-60], predicted_mag)"
      ],
      "execution_count": 38,
      "outputs": [
        {
          "output_type": "stream",
          "text": [
            "The root mean squared error is 9.79910529942502.\n"
          ],
          "name": "stdout"
        }
      ]
    }
  ]
}