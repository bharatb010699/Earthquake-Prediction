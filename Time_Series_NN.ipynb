{
  "nbformat": 4,
  "nbformat_minor": 0,
  "metadata": {
    "colab": {
      "name": "Time_Series_NN.ipynb",
      "provenance": [],
      "authorship_tag": "ABX9TyNkxHxqLZHv6yBMU/ftd+Wj"
    },
    "kernelspec": {
      "name": "python3",
      "display_name": "Python 3"
    },
    "accelerator": "GPU"
  },
  "cells": [
    {
      "cell_type": "code",
      "metadata": {
        "id": "pvX_ya3lXbk9",
        "colab_type": "code",
        "colab": {
          "base_uri": "https://localhost:8080/",
          "height": 118
        },
        "outputId": "3ba8cc99-8f1d-479f-d2d1-b4734125dc5f"
      },
      "source": [
        "!git clone \"https://github.com/bharatb010699/Earthquake-Forecasting.git\""
      ],
      "execution_count": 1,
      "outputs": [
        {
          "output_type": "stream",
          "text": [
            "Cloning into 'Earthquake-Forecasting'...\n",
            "remote: Enumerating objects: 44, done.\u001b[K\n",
            "remote: Counting objects:   2% (1/44)\u001b[K\rremote: Counting objects:   4% (2/44)\u001b[K\rremote: Counting objects:   6% (3/44)\u001b[K\rremote: Counting objects:   9% (4/44)\u001b[K\rremote: Counting objects:  11% (5/44)\u001b[K\rremote: Counting objects:  13% (6/44)\u001b[K\rremote: Counting objects:  15% (7/44)\u001b[K\rremote: Counting objects:  18% (8/44)\u001b[K\rremote: Counting objects:  20% (9/44)\u001b[K\rremote: Counting objects:  22% (10/44)\u001b[K\rremote: Counting objects:  25% (11/44)\u001b[K\rremote: Counting objects:  27% (12/44)\u001b[K\rremote: Counting objects:  29% (13/44)\u001b[K\rremote: Counting objects:  31% (14/44)\u001b[K\rremote: Counting objects:  34% (15/44)\u001b[K\rremote: Counting objects:  36% (16/44)\u001b[K\rremote: Counting objects:  38% (17/44)\u001b[K\rremote: Counting objects:  40% (18/44)\u001b[K\rremote: Counting objects:  43% (19/44)\u001b[K\rremote: Counting objects:  45% (20/44)\u001b[K\rremote: Counting objects:  47% (21/44)\u001b[K\rremote: Counting objects:  50% (22/44)\u001b[K\rremote: Counting objects:  52% (23/44)\u001b[K\rremote: Counting objects:  54% (24/44)\u001b[K\rremote: Counting objects:  56% (25/44)\u001b[K\rremote: Counting objects:  59% (26/44)\u001b[K\rremote: Counting objects:  61% (27/44)\u001b[K\rremote: Counting objects:  63% (28/44)\u001b[K\rremote: Counting objects:  65% (29/44)\u001b[K\rremote: Counting objects:  68% (30/44)\u001b[K\rremote: Counting objects:  70% (31/44)\u001b[K\rremote: Counting objects:  72% (32/44)\u001b[K\rremote: Counting objects:  75% (33/44)\u001b[K\rremote: Counting objects:  77% (34/44)\u001b[K\rremote: Counting objects:  79% (35/44)\u001b[K\rremote: Counting objects:  81% (36/44)\u001b[K\rremote: Counting objects:  84% (37/44)\u001b[K\rremote: Counting objects:  86% (38/44)\u001b[K\rremote: Counting objects:  88% (39/44)\u001b[K\rremote: Counting objects:  90% (40/44)\u001b[K\rremote: Counting objects:  93% (41/44)\u001b[K\rremote: Counting objects:  95% (42/44)\u001b[K\rremote: Counting objects:  97% (43/44)\u001b[K\rremote: Counting objects: 100% (44/44)\u001b[K\rremote: Counting objects: 100% (44/44), done.\u001b[K\n",
            "remote: Compressing objects:   2% (1/36)\u001b[K\rremote: Compressing objects:   5% (2/36)\u001b[K\rremote: Compressing objects:   8% (3/36)\u001b[K\rremote: Compressing objects:  11% (4/36)\u001b[K\rremote: Compressing objects:  13% (5/36)\u001b[K\rremote: Compressing objects:  16% (6/36)\u001b[K\rremote: Compressing objects:  19% (7/36)\u001b[K\rremote: Compressing objects:  22% (8/36)\u001b[K\rremote: Compressing objects:  25% (9/36)\u001b[K\rremote: Compressing objects:  27% (10/36)\u001b[K\rremote: Compressing objects:  30% (11/36)\u001b[K\rremote: Compressing objects:  33% (12/36)\u001b[K\rremote: Compressing objects:  36% (13/36)\u001b[K\rremote: Compressing objects:  38% (14/36)\u001b[K\rremote: Compressing objects:  41% (15/36)\u001b[K\rremote: Compressing objects:  44% (16/36)\u001b[K\rremote: Compressing objects:  47% (17/36)\u001b[K\rremote: Compressing objects:  50% (18/36)\u001b[K\rremote: Compressing objects:  52% (19/36)\u001b[K\rremote: Compressing objects:  55% (20/36)\u001b[K\rremote: Compressing objects:  58% (21/36)\u001b[K\rremote: Compressing objects:  61% (22/36)\u001b[K\rremote: Compressing objects:  63% (23/36)\u001b[K\rremote: Compressing objects:  66% (24/36)\u001b[K\rremote: Compressing objects:  69% (25/36)\u001b[K\rremote: Compressing objects:  72% (26/36)\u001b[K\rremote: Compressing objects:  75% (27/36)\u001b[K\rremote: Compressing objects:  77% (28/36)\u001b[K\rremote: Compressing objects:  80% (29/36)\u001b[K\rremote: Compressing objects:  83% (30/36)\u001b[K\rremote: Compressing objects:  86% (31/36)\u001b[K\rremote: Compressing objects:  88% (32/36)\u001b[K\rremote: Compressing objects:  91% (33/36)\u001b[K\rremote: Compressing objects:  94% (34/36)\u001b[K\rremote: Compressing objects:  97% (35/36)\u001b[K\rremote: Compressing objects: 100% (36/36)\u001b[K\rremote: Compressing objects: 100% (36/36), done.\u001b[K\n",
            "Unpacking objects:   2% (1/44)   \rUnpacking objects:   4% (2/44)   \rUnpacking objects:   6% (3/44)   \rUnpacking objects:   9% (4/44)   \rUnpacking objects:  11% (5/44)   \rUnpacking objects:  13% (6/44)   \rUnpacking objects:  15% (7/44)   \rUnpacking objects:  18% (8/44)   \rUnpacking objects:  20% (9/44)   \rUnpacking objects:  22% (10/44)   \rUnpacking objects:  25% (11/44)   \rUnpacking objects:  27% (12/44)   \rUnpacking objects:  29% (13/44)   \rUnpacking objects:  31% (14/44)   \rUnpacking objects:  34% (15/44)   \rUnpacking objects:  36% (16/44)   \rUnpacking objects:  38% (17/44)   \rUnpacking objects:  40% (18/44)   \rUnpacking objects:  43% (19/44)   \rUnpacking objects:  45% (20/44)   \rUnpacking objects:  47% (21/44)   \rUnpacking objects:  50% (22/44)   \rUnpacking objects:  52% (23/44)   \rUnpacking objects:  54% (24/44)   \rUnpacking objects:  56% (25/44)   \rUnpacking objects:  59% (26/44)   \rUnpacking objects:  61% (27/44)   \rUnpacking objects:  63% (28/44)   \rUnpacking objects:  65% (29/44)   \rUnpacking objects:  68% (30/44)   \rremote: Total 44 (delta 16), reused 23 (delta 8), pack-reused 0\u001b[K\n",
            "Unpacking objects:  70% (31/44)   \rUnpacking objects:  72% (32/44)   \rUnpacking objects:  75% (33/44)   \rUnpacking objects:  77% (34/44)   \rUnpacking objects:  79% (35/44)   \rUnpacking objects:  81% (36/44)   \rUnpacking objects:  84% (37/44)   \rUnpacking objects:  86% (38/44)   \rUnpacking objects:  88% (39/44)   \rUnpacking objects:  90% (40/44)   \rUnpacking objects:  93% (41/44)   \rUnpacking objects:  95% (42/44)   \rUnpacking objects:  97% (43/44)   \rUnpacking objects: 100% (44/44)   \rUnpacking objects: 100% (44/44), done.\n"
          ],
          "name": "stdout"
        }
      ]
    },
    {
      "cell_type": "code",
      "metadata": {
        "id": "0hmiHkstYGG2",
        "colab_type": "code",
        "colab": {}
      },
      "source": [
        "import pandas\n",
        "from keras.models import Sequential\n",
        "from keras.layers import Dense\n",
        "from keras.wrappers.scikit_learn import KerasClassifier\n",
        "from keras.utils import np_utils\n",
        "from sklearn.model_selection import cross_val_score\n",
        "from sklearn.model_selection import KFold\n",
        "from sklearn.preprocessing import LabelEncoder\n",
        "from sklearn.pipeline import Pipeline"
      ],
      "execution_count": 7,
      "outputs": []
    },
    {
      "cell_type": "code",
      "metadata": {
        "id": "BsmvTVhYYOoo",
        "colab_type": "code",
        "colab": {}
      },
      "source": [
        "# Some functions to help out with\n",
        "def plot_predictions(test,predicted):\n",
        "    plt.plot(test, color='red',label='Real Magnitude')\n",
        "    plt.plot(predicted, color='blue',label='Predicted Magnitude')\n",
        "    plt.title('Earthquake Magnitude Prediction')\n",
        "    plt.xlabel('Time')\n",
        "    plt.ylabel('Magnitude')\n",
        "    plt.legend()\n",
        "    plt.show()\n",
        "\n",
        "def return_rmse(test,predicted):\n",
        "    rmse = math.sqrt(mean_squared_error(test, predicted))\n",
        "    print(\"The root mean squared error is {}.\".format(rmse))"
      ],
      "execution_count": 4,
      "outputs": []
    },
    {
      "cell_type": "code",
      "metadata": {
        "colab_type": "code",
        "id": "6i6BQD14eZsS",
        "colab": {}
      },
      "source": [
        "# load dataset\n",
        "dataframe = pandas.read_csv(\"/content/Earthquake-Forecasting/final_data.csv\", header=None)\n",
        "dataset = dataframe.values\n",
        "X = dataset[1:,0:5].astype(float)\n",
        "Y = dataset[1:,3].astype(float)\n",
        "X = X[0:5000, :]\n",
        "Y = Y[0:5000]\n",
        "X = X[::-1]\n",
        "Y = Y[::-1]\n",
        "X = np.delete(X,3,1)"
      ],
      "execution_count": 45,
      "outputs": []
    },
    {
      "cell_type": "code",
      "metadata": {
        "id": "UjO8xaO_bOZr",
        "colab_type": "code",
        "colab": {}
      },
      "source": [
        "for i in range (len(Y)):\n",
        "  if Y[i] < 3.5:\n",
        "    Y[i] = 0\n",
        "  elif Y[i] >= 3.5 and Y[i] < 4.5:\n",
        "    Y[i] = 1\n",
        "  elif Y[i] >= 4.5 and Y[i] < 6:\n",
        "    Y[i] = 2\n",
        "  else:\n",
        "    Y[i] = 3 "
      ],
      "execution_count": 46,
      "outputs": []
    },
    {
      "cell_type": "code",
      "metadata": {
        "id": "UL7ZtWJ7jauw",
        "colab_type": "code",
        "colab": {}
      },
      "source": [
        "# encode class values as integers\n",
        "encoder = LabelEncoder()\n",
        "encoder.fit(Y)\n",
        "encoded_Y = encoder.transform(Y)\n",
        "# convert integers to dummy variables (i.e. one hot encoded)\n",
        "dummy_y = np_utils.to_categorical(encoded_Y)"
      ],
      "execution_count": 47,
      "outputs": []
    },
    {
      "cell_type": "code",
      "metadata": {
        "id": "7HF4zXENlHLi",
        "colab_type": "code",
        "colab": {}
      },
      "source": [
        "def baseline_model():\n",
        "  # create model\n",
        "  model = Sequential()\n",
        "  model.add(Dense(60, input_dim = 4, activation='relu'))\n",
        "  model.add(Dense(60, input_dim = 60, activation='relu'))\n",
        "  model.add(Dense(4, activation = 'softmax'))\n",
        "  # Compile model\n",
        "  model.compile(loss = 'categorical_crossentropy', optimizer = 'adam', metrics = ['accuracy'])\n",
        "  return model"
      ],
      "execution_count": 53,
      "outputs": []
    },
    {
      "cell_type": "code",
      "metadata": {
        "id": "gqwLjZgLmiqC",
        "colab_type": "code",
        "colab": {}
      },
      "source": [
        "estimator = KerasClassifier(build_fn=baseline_model, epochs=200, batch_size=20, verbose=0)"
      ],
      "execution_count": 54,
      "outputs": []
    },
    {
      "cell_type": "code",
      "metadata": {
        "id": "955ZZPZTmv33",
        "colab_type": "code",
        "colab": {}
      },
      "source": [
        "kfold = KFold(n_splits=10, shuffle=True)"
      ],
      "execution_count": 55,
      "outputs": []
    },
    {
      "cell_type": "code",
      "metadata": {
        "id": "Ql0zglgrm0cI",
        "colab_type": "code",
        "colab": {
          "base_uri": "https://localhost:8080/",
          "height": 34
        },
        "outputId": "b0a88266-b9d5-4b0f-8c69-3558d71bb2c4"
      },
      "source": [
        "results = cross_val_score(estimator, X, dummy_y, cv=kfold)\n",
        "print(\"Baseline: %.2f%% (%.2f%%)\" % (results.mean()*100, results.std()*100))"
      ],
      "execution_count": 56,
      "outputs": [
        {
          "output_type": "stream",
          "text": [
            "Baseline: 61.22% (1.84%)\n"
          ],
          "name": "stdout"
        }
      ]
    },
    {
      "cell_type": "code",
      "metadata": {
        "id": "XhZIuhjim4my",
        "colab_type": "code",
        "colab": {}
      },
      "source": [
        "def baseline_model_1():\n",
        "  # create model\n",
        "  model = Sequential()\n",
        "  model.add(Dense(20, input_dim = 4, activation='relu'))\n",
        "  model.add(Dense(4, activation = 'softmax'))\n",
        "  # Compile model\n",
        "  model.compile(loss = 'categorical_crossentropy', optimizer = 'adam', metrics = ['accuracy'])\n",
        "  return model"
      ],
      "execution_count": 57,
      "outputs": []
    },
    {
      "cell_type": "code",
      "metadata": {
        "id": "ygxe3wzxtKNi",
        "colab_type": "code",
        "colab": {}
      },
      "source": [
        "estimator = KerasClassifier(build_fn=baseline_model_1, epochs=200, batch_size=20, verbose=0)"
      ],
      "execution_count": 61,
      "outputs": []
    },
    {
      "cell_type": "code",
      "metadata": {
        "id": "CXorv-wbtNso",
        "colab_type": "code",
        "colab": {}
      },
      "source": [
        "kfold = KFold(n_splits=10, shuffle=True)"
      ],
      "execution_count": 62,
      "outputs": []
    },
    {
      "cell_type": "code",
      "metadata": {
        "id": "qA6H6X1wtRSt",
        "colab_type": "code",
        "colab": {
          "base_uri": "https://localhost:8080/",
          "height": 34
        },
        "outputId": "ad06688c-b0c4-4591-81bb-800d69475d11"
      },
      "source": [
        "results = cross_val_score(estimator, X, dummy_y, cv=kfold)\n",
        "print(\"Baseline: %.2f%% (%.2f%%)\" % (results.mean()*100, results.std()*100))"
      ],
      "execution_count": 63,
      "outputs": [
        {
          "output_type": "stream",
          "text": [
            "Baseline: 53.32% (11.20%)\n"
          ],
          "name": "stdout"
        }
      ]
    },
    {
      "cell_type": "code",
      "metadata": {
        "id": "dW9CxC-cuDkF",
        "colab_type": "code",
        "colab": {}
      },
      "source": [
        ""
      ],
      "execution_count": null,
      "outputs": []
    }
  ]
}