{
  "nbformat": 4,
  "nbformat_minor": 0,
  "metadata": {
    "colab": {
      "name": "Timestamp_generation.ipynb",
      "provenance": [],
      "toc_visible": true,
      "include_colab_link": true
    },
    "kernelspec": {
      "name": "python3",
      "display_name": "Python 3"
    }
  },
  "cells": [
    {
      "cell_type": "markdown",
      "metadata": {
        "id": "view-in-github",
        "colab_type": "text"
      },
      "source": [
        "<a href=\"https://colab.research.google.com/github/bharatb010699/Earthquake-Forecasting/blob/master/Timestamp_generation.ipynb\" target=\"_parent\"><img src=\"https://colab.research.google.com/assets/colab-badge.svg\" alt=\"Open In Colab\"/></a>"
      ]
    },
    {
      "cell_type": "markdown",
      "metadata": {
        "id": "QLQJXiuXZrV5",
        "colab_type": "text"
      },
      "source": [
        "# Timestamp Generation\n",
        "\n",
        "---\n",
        "\n"
      ]
    },
    {
      "cell_type": "code",
      "metadata": {
        "id": "Pjseyri9dDyu",
        "colab_type": "code",
        "outputId": "74527dda-b8d0-4678-e45c-21c9a39cb1d2",
        "colab": {
          "base_uri": "https://localhost:8080/",
          "height": 118
        }
      },
      "source": [
        "!git clone \"https://github.com/bharatb010699/Earthquake-Forecasting.git\""
      ],
      "execution_count": 1,
      "outputs": [
        {
          "output_type": "stream",
          "text": [
            "Cloning into 'Earthquake-Forecasting'...\n",
            "remote: Enumerating objects: 8, done.\u001b[K\n",
            "remote: Counting objects:  12% (1/8)\u001b[K\rremote: Counting objects:  25% (2/8)\u001b[K\rremote: Counting objects:  37% (3/8)\u001b[K\rremote: Counting objects:  50% (4/8)\u001b[K\rremote: Counting objects:  62% (5/8)\u001b[K\rremote: Counting objects:  75% (6/8)\u001b[K\rremote: Counting objects:  87% (7/8)\u001b[K\rremote: Counting objects: 100% (8/8)\u001b[K\rremote: Counting objects: 100% (8/8), done.\u001b[K\n",
            "remote: Compressing objects: 100% (7/7), done.\u001b[K\n",
            "remote: Total 8 (delta 1), reused 4 (delta 1), pack-reused 0\u001b[K\n",
            "Unpacking objects: 100% (8/8), done.\n"
          ],
          "name": "stdout"
        }
      ]
    },
    {
      "cell_type": "code",
      "metadata": {
        "id": "C_yl1QWeNlvI",
        "colab_type": "code",
        "colab": {}
      },
      "source": [
        "import numpy as np\n",
        "import pandas as pd"
      ],
      "execution_count": 0,
      "outputs": []
    },
    {
      "cell_type": "code",
      "metadata": {
        "id": "b44kHInvOGFP",
        "colab_type": "code",
        "colab": {}
      },
      "source": [
        "from datetime import datetime"
      ],
      "execution_count": 0,
      "outputs": []
    },
    {
      "cell_type": "markdown",
      "metadata": {
        "id": "LYHJzVGEZXNJ",
        "colab_type": "text"
      },
      "source": [
        "This will read the dataset (.csv file) in a dataframe"
      ]
    },
    {
      "cell_type": "code",
      "metadata": {
        "id": "yXjfONhxOfLt",
        "colab_type": "code",
        "colab": {}
      },
      "source": [
        "df = pd.read_csv('./Earthquake-Forecasting/query.csv')"
      ],
      "execution_count": 0,
      "outputs": []
    },
    {
      "cell_type": "markdown",
      "metadata": {
        "id": "JTMnziCaaApI",
        "colab_type": "text"
      },
      "source": [
        "Creating the list of timestamps"
      ]
    },
    {
      "cell_type": "code",
      "metadata": {
        "id": "2-He6QSVQboZ",
        "colab_type": "code",
        "colab": {}
      },
      "source": [
        "list = []\n",
        "for i in range (len(df)):\n",
        "  date_time_str = df.values[i][0]\n",
        "  date_time_str = date_time_str[:10] + \" \" + date_time_str[11:]\n",
        "  date_time_str = date_time_str[:23] + \"\"\n",
        "  date_time_obj = datetime.strptime(date_time_str, '%Y-%m-%d %H:%M:%S.%f')\n",
        "  timestamp = datetime.timestamp(date_time_obj)\n",
        "  list.append(str(timestamp))"
      ],
      "execution_count": 0,
      "outputs": []
    },
    {
      "cell_type": "markdown",
      "metadata": {
        "id": "N-dC3UzCaGqd",
        "colab_type": "text"
      },
      "source": [
        "Then, creating a separate column for adding timestamp for each data point"
      ]
    },
    {
      "cell_type": "code",
      "metadata": {
        "id": "BoyFdfljQpHi",
        "colab_type": "code",
        "colab": {}
      },
      "source": [
        "df['timestamp'] = list"
      ],
      "execution_count": 0,
      "outputs": []
    },
    {
      "cell_type": "markdown",
      "metadata": {
        "id": "a7wazByRaTXX",
        "colab_type": "text"
      },
      "source": [
        "We're done! Read the dataframe into a .csv file now"
      ]
    },
    {
      "cell_type": "code",
      "metadata": {
        "id": "tT7YPp9XZFUE",
        "colab_type": "code",
        "colab": {}
      },
      "source": [
        "df.to_csv('./Earthquake-Forecasting/processed_data.csv', index=False)"
      ],
      "execution_count": 0,
      "outputs": []
    }
  ]
}