{
  "nbformat": 4,
  "nbformat_minor": 0,
  "metadata": {
    "colab": {
      "name": "Data_Preprocessing.ipynb",
      "provenance": [],
      "authorship_tag": "ABX9TyMXPeCr4lX1nUUa3bOw3b5V",
      "include_colab_link": true
    },
    "kernelspec": {
      "name": "python3",
      "display_name": "Python 3"
    }
  },
  "cells": [
    {
      "cell_type": "markdown",
      "metadata": {
        "id": "view-in-github",
        "colab_type": "text"
      },
      "source": [
        "<a href=\"https://colab.research.google.com/github/bharatb010699/Earthquake-Forecasting/blob/master/Data_Preprocessing.ipynb\" target=\"_parent\"><img src=\"https://colab.research.google.com/assets/colab-badge.svg\" alt=\"Open In Colab\"/></a>"
      ]
    },
    {
      "cell_type": "markdown",
      "metadata": {
        "id": "U1zHvOTAy4NS",
        "colab_type": "text"
      },
      "source": [
        "# Data Preprocessing\n",
        "This section of the code focuses on removing unwanted features from our input data\n"
      ]
    },
    {
      "cell_type": "code",
      "metadata": {
        "id": "7bBay_KJyD0w",
        "colab_type": "code",
        "colab": {
          "base_uri": "https://localhost:8080/",
          "height": 118
        },
        "outputId": "4b09da43-8a29-47ef-c50c-e7c38c7fd8f3"
      },
      "source": [
        "!git clone \"https://github.com/bharatb010699/Earthquake-Forecasting.git\""
      ],
      "execution_count": 1,
      "outputs": [
        {
          "output_type": "stream",
          "text": [
            "Cloning into 'Earthquake-Forecasting'...\n",
            "remote: Enumerating objects: 14, done.\u001b[K\n",
            "remote: Counting objects:   7% (1/14)\u001b[K\rremote: Counting objects:  14% (2/14)\u001b[K\rremote: Counting objects:  21% (3/14)\u001b[K\rremote: Counting objects:  28% (4/14)\u001b[K\rremote: Counting objects:  35% (5/14)\u001b[K\rremote: Counting objects:  42% (6/14)\u001b[K\rremote: Counting objects:  50% (7/14)\u001b[K\rremote: Counting objects:  57% (8/14)\u001b[K\rremote: Counting objects:  64% (9/14)\u001b[K\rremote: Counting objects:  71% (10/14)\u001b[K\rremote: Counting objects:  78% (11/14)\u001b[K\rremote: Counting objects:  85% (12/14)\u001b[K\rremote: Counting objects:  92% (13/14)\u001b[K\rremote: Counting objects: 100% (14/14)\u001b[K\rremote: Counting objects: 100% (14/14), done.\u001b[K\n",
            "remote: Compressing objects: 100% (13/13), done.\u001b[K\n",
            "remote: Total 14 (delta 4), reused 4 (delta 1), pack-reused 0\u001b[K\n",
            "Unpacking objects: 100% (14/14), done.\n"
          ],
          "name": "stdout"
        }
      ]
    },
    {
      "cell_type": "code",
      "metadata": {
        "id": "3muD-kGiNKdg",
        "colab_type": "code",
        "colab": {}
      },
      "source": [
        "import pandas as pd"
      ],
      "execution_count": 0,
      "outputs": []
    },
    {
      "cell_type": "markdown",
      "metadata": {
        "id": "WDrChk8SzRwz",
        "colab_type": "text"
      },
      "source": [
        "Read the file which includes the timestamp for each entry"
      ]
    },
    {
      "cell_type": "code",
      "metadata": {
        "id": "eH-Hs2m3yi8i",
        "colab_type": "code",
        "colab": {}
      },
      "source": [
        "df = pd.read_csv('./Earthquake-Forecasting/processed_data.csv')"
      ],
      "execution_count": 0,
      "outputs": []
    },
    {
      "cell_type": "markdown",
      "metadata": {
        "id": "3AGKBiKyzp2w",
        "colab_type": "text"
      },
      "source": [
        "We want only six features, using which we'll be carrying out our further study"
      ]
    },
    {
      "cell_type": "code",
      "metadata": {
        "id": "U6dVjGtFynra",
        "colab_type": "code",
        "colab": {}
      },
      "source": [
        "df = df[['timestamp', 'latitude', 'longitude', 'mag', 'depth', 'place']]"
      ],
      "execution_count": 0,
      "outputs": []
    },
    {
      "cell_type": "code",
      "metadata": {
        "id": "M9DIT6gtyqby",
        "colab_type": "code",
        "colab": {}
      },
      "source": [
        "df.to_csv('./Earthquake-Forecasting/final_data.csv', index=False)"
      ],
      "execution_count": 0,
      "outputs": []
    }
  ]
}